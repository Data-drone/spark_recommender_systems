{
 "cells": [
  {
   "cell_type": "markdown",
   "metadata": {},
   "source": [
    "# Spark Collaborative Filtering"
   ]
  },
  {
   "cell_type": "markdown",
   "metadata": {},
   "source": [
    "Collaborative Filtering with Spark 3.0"
   ]
  },
  {
   "cell_type": "code",
   "execution_count": 1,
   "metadata": {},
   "outputs": [],
   "source": [
    "from pyspark.sql import SparkSession"
   ]
  },
  {
   "cell_type": "code",
   "execution_count": 2,
   "metadata": {},
   "outputs": [],
   "source": [
    "spark = SparkSession.builder.master(\"spark://spark-master:7077\").getOrCreate()   "
   ]
  },
  {
   "cell_type": "markdown",
   "metadata": {},
   "source": [
    "## Getting the MovieLens Data"
   ]
  },
  {
   "cell_type": "code",
   "execution_count": 10,
   "metadata": {},
   "outputs": [
    {
     "name": "stdout",
     "output_type": "stream",
     "text": [
      "--2020-06-23 01:12:55--  http://files.grouplens.org/datasets/movielens/ml-25m.zip\n",
      "Resolving files.grouplens.org (files.grouplens.org)... 128.101.65.152\n",
      "Connecting to files.grouplens.org (files.grouplens.org)|128.101.65.152|:80... connected.\n",
      "HTTP request sent, awaiting response... 200 OK\n",
      "Length: 261978986 (250M) [application/zip]\n",
      "Saving to: ‘/opt/spark-data/ml-25m.zip’\n",
      "\n",
      "ml-25m.zip          100%[===================>] 249.84M  3.76MB/s    in 80s     \n",
      "\n",
      "2020-06-23 01:14:15 (3.11 MB/s) - ‘/opt/spark-data/ml-25m.zip’ saved [261978986/261978986]\n",
      "\n",
      "--2020-06-23 01:14:16--  http://files.grouplens.org/datasets/movielens/ml-25m.zip.md5\n",
      "Resolving files.grouplens.org (files.grouplens.org)... 128.101.65.152\n",
      "Connecting to files.grouplens.org (files.grouplens.org)|128.101.65.152|:80... connected.\n",
      "HTTP request sent, awaiting response... 200 OK\n",
      "Length: 45 [application/zip]\n",
      "Saving to: ‘/opt/spark-data/ml-25m.zip.md5’\n",
      "\n",
      "ml-25m.zip.md5      100%[===================>]      45  --.-KB/s    in 0s      \n",
      "\n",
      "2020-06-23 01:14:17 (7.22 MB/s) - ‘/opt/spark-data/ml-25m.zip.md5’ saved [45/45]\n",
      "\n",
      "md5sum: ml-25m.zip: No such file or directory\n",
      "ml-25m.zip: FAILED open or read\n",
      "md5sum: WARNING: 1 listed file could not be read\n"
     ]
    }
   ],
   "source": [
    "!wget http://files.grouplens.org/datasets/movielens/ml-25m.zip -P /opt/spark-data/\n",
    "!wget http://files.grouplens.org/datasets/movielens/ml-25m.zip.md5 -P /opt/spark-data/\n",
    "!md5sum -c /opt/spark-data/*.md5 "
   ]
  },
  {
   "cell_type": "code",
   "execution_count": 12,
   "metadata": {},
   "outputs": [
    {
     "name": "stdout",
     "output_type": "stream",
     "text": [
      "genome-scores.csv  links.csv   ratings.csv  tags.csv\n",
      "genome-tags.csv    movies.csv  README.txt\n"
     ]
    }
   ],
   "source": [
    "!ls /opt/spark-data/ml-25m"
   ]
  },
  {
   "cell_type": "markdown",
   "metadata": {},
   "source": [
    "# Explore and build model"
   ]
  },
  {
   "cell_type": "code",
   "execution_count": 3,
   "metadata": {},
   "outputs": [],
   "source": [
    "# Create Schema\n",
    "from pyspark.sql.types import *"
   ]
  },
  {
   "cell_type": "code",
   "execution_count": 4,
   "metadata": {},
   "outputs": [],
   "source": [
    "schema = StructType([\n",
    "    StructField(\"userId\", IntegerType(), True),\n",
    "    StructField(\"movieId\", IntegerType(), True),\n",
    "    StructField(\"rating\", DecimalType(), True),\n",
    "    StructField(\"timestamp\", DoubleType(), True),\n",
    "])"
   ]
  },
  {
   "cell_type": "code",
   "execution_count": 5,
   "metadata": {},
   "outputs": [],
   "source": [
    "RawLines = spark.read.schema(schema).csv(\"/opt/spark-data/ml-25m/ratings.csv\", header=True)"
   ]
  },
  {
   "cell_type": "code",
   "execution_count": 6,
   "metadata": {},
   "outputs": [
    {
     "data": {
      "text/plain": [
       "[Row(userId=1, movieId=296, rating=Decimal('5'), timestamp=1147880044.0),\n",
       " Row(userId=1, movieId=306, rating=Decimal('4'), timestamp=1147868817.0),\n",
       " Row(userId=1, movieId=307, rating=Decimal('5'), timestamp=1147868828.0),\n",
       " Row(userId=1, movieId=665, rating=Decimal('5'), timestamp=1147878820.0),\n",
       " Row(userId=1, movieId=899, rating=Decimal('4'), timestamp=1147868510.0),\n",
       " Row(userId=1, movieId=1088, rating=Decimal('4'), timestamp=1147868495.0),\n",
       " Row(userId=1, movieId=1175, rating=Decimal('4'), timestamp=1147868826.0),\n",
       " Row(userId=1, movieId=1217, rating=Decimal('4'), timestamp=1147878326.0),\n",
       " Row(userId=1, movieId=1237, rating=Decimal('5'), timestamp=1147868839.0),\n",
       " Row(userId=1, movieId=1250, rating=Decimal('4'), timestamp=1147868414.0)]"
      ]
     },
     "execution_count": 6,
     "metadata": {},
     "output_type": "execute_result"
    }
   ],
   "source": [
    "RawLines.take(10)"
   ]
  },
  {
   "cell_type": "code",
   "execution_count": 7,
   "metadata": {},
   "outputs": [],
   "source": [
    "(training, test) = RawLines.randomSplit([0.8, 0.2])"
   ]
  },
  {
   "cell_type": "markdown",
   "metadata": {},
   "source": [
    "# Modelling with ALS"
   ]
  },
  {
   "cell_type": "code",
   "execution_count": 8,
   "metadata": {},
   "outputs": [],
   "source": [
    "from pyspark.ml.recommendation import ALS"
   ]
  },
  {
   "cell_type": "code",
   "execution_count": 9,
   "metadata": {},
   "outputs": [],
   "source": [
    "als = ALS(maxIter=5, regParam=0.01, userCol=\"userId\", itemCol=\"movieId\", ratingCol=\"rating\",\n",
    "          coldStartStrategy=\"drop\")\n",
    "model = als.fit(training)"
   ]
  },
  {
   "cell_type": "markdown",
   "metadata": {},
   "source": [
    "# Examine Predictions"
   ]
  },
  {
   "cell_type": "code",
   "execution_count": 10,
   "metadata": {},
   "outputs": [],
   "source": [
    "from pyspark.ml.evaluation import RegressionEvaluator"
   ]
  },
  {
   "cell_type": "code",
   "execution_count": 11,
   "metadata": {},
   "outputs": [],
   "source": [
    "# Evaluate the model by computing the RMSE on the test data\n",
    "predictions = model.transform(test)\n",
    "evaluator = RegressionEvaluator(metricName=\"rmse\", labelCol=\"rating\",\n",
    "                                predictionCol=\"prediction\")"
   ]
  },
  {
   "cell_type": "code",
   "execution_count": 12,
   "metadata": {},
   "outputs": [
    {
     "name": "stdout",
     "output_type": "stream",
     "text": [
      "Root-mean-square error = 0.8267054042943826\n"
     ]
    }
   ],
   "source": [
    "rmse = evaluator.evaluate(predictions)\n",
    "print(\"Root-mean-square error = \" + str(rmse))"
   ]
  },
  {
   "cell_type": "markdown",
   "metadata": {},
   "source": [
    "Close Out"
   ]
  },
  {
   "cell_type": "code",
   "execution_count": 13,
   "metadata": {},
   "outputs": [],
   "source": [
    "# Commented out so that we can run all without stopping our session\n",
    "# spark.stop"
   ]
  }
 ],
 "metadata": {
  "kernelspec": {
   "display_name": "Python 3",
   "language": "python",
   "name": "python3"
  },
  "language_info": {
   "codemirror_mode": {
    "name": "ipython",
    "version": 3
   },
   "file_extension": ".py",
   "mimetype": "text/x-python",
   "name": "python",
   "nbconvert_exporter": "python",
   "pygments_lexer": "ipython3",
   "version": "3.7.6"
  }
 },
 "nbformat": 4,
 "nbformat_minor": 4
}
